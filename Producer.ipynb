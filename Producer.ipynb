{
 "cells": [
  {
   "cell_type": "code",
   "execution_count": 14,
   "metadata": {},
   "outputs": [
    {
     "name": "stderr",
     "output_type": "stream",
     "text": [
      "0it [00:00, ?it/s]"
     ]
    },
    {
     "name": "stdout",
     "output_type": "stream",
     "text": [
      "Head of sampled data:\n",
      "{\"category\": [\"Clothing, Shoes & Jewelry\", \"Men\", \"Clothing\", \"Jeans\", \"Denim\", \"Zipper closure\", \"Material: cotton\", \"Style: hip pop\", \"Two side slant pockets and two back pockets\", \"Straight fit long pants\"], \"tech1\": \"\", \"description\": [\"<b>pant size(Unit:inch)</b><br> W30(tag30) Waist: 30.0 Hip: 41.7 Length: 43.3 Thigh: 26.8 Leg opening: 16.5 <br> W32(tag32) Waist: 32.0 Hip: 43.7 Length: 43.7 Thigh: 27.6 Leg opening: 16.9 <br> W33(tag34) Waist: 33.9 Hip: 45.7 Length: 44.1 Thigh: 28.3 Leg opening: 17.3 <br> W34(tag36) Waist: 35.8 Hip: 47.6 Length: 44.5 Thigh: 29.1 Leg opening: 17.7 <br> W36(tag38) Waist: 37.8 Hip: 49.6 Length: 44.9 Thigh: 29.9 Leg opening: 18.1 <br> W38(tag40) Waist: 40.0 Hip: 51.6 Length: 45.3 Thigh: 30.7 Leg opening: 18.5 <br> W40(tag42) Waist: 42.0 Hip: 53.5 Length: 45.7 Thigh: 31.5 Leg opening: 18.9 <br> W42(tag44) Waist: 44.0 Hip: 55.5 Length: 46.1 Thigh: 32.3 Leg opening: 19.3 <br> W44(tag46) Waist: 46.0 Hip: 57.5 Length: 46.5 Thigh: 33.1 Leg opening: 19.7 <br>\"], \"fit\": \" class=\\\"a-normal a-align-center a-spacing-small\\\">\\n        \\n            <tr class=\\\"a-histogram-row\\\">\\n                <td class=\\\"a-span3 a-nowrap\\\">\\n                    <span class=\\\"a-color-state a-text-bold\\\">\\n                        Too small\\n                    </span>\\n                </td>\\n                <td class=\\\"a-span8\\\">\\n                    <div class=\\\"a-meter\\\" aria-label=\\\"20%\\\"><div class=\\\"a-meter-bar\\\" style=\\\"width: 20%;\\\"></div></div>\\n                </td> \\n                <td class=\\\"a-span1 a-nowrap\\\">\\n                    <span>2</span>\\n                </td> \\n            </tr>\\n        \\n            <tr class=\\\"a-histogram-row\\\">\\n                <td class=\\\"a-span3 a-nowrap\\\">\\n                    <span class=\\\"a-color-state a-text-bold\\\">\\n                        Somewhat small\\n                    </span>\\n                </td>\\n                <td class=\\\"a-span8\\\">\\n                    <div class=\\\"a-meter\\\" aria-label=\\\"30%\\\"><div class=\\\"a-meter-bar\\\" style=\\\"width: 30%;\\\"></div></div>\\n                </td> \\n                <td class=\\\"a-span1 a-nowrap\\\">\\n                    <span>3</span>\\n                </td> \\n            </tr>\\n        \\n            <tr class=\\\"a-histogram-row\\\">\\n                <td class=\\\"a-span3 a-nowrap\\\">\\n                    <span class=\\\"a-color-secondary\\\">\\n                        Fits as expected\\n                    </span>\\n                </td>\\n                <td class=\\\"a-span8\\\">\\n                    <div class=\\\"a-meter\\\" aria-label=\\\"50%\\\"><div class=\\\"a-meter-bar\\\" style=\\\"width: 50%;\\\"></div></div>\\n                </td> \\n                <td class=\\\"a-span1 a-nowrap\\\">\\n                    <span>5</span>\\n                </td> \\n            </tr>\\n        \\n            <tr class=\\\"a-histogram-row\\\">\\n                <td class=\\\"a-span3 a-nowrap\\\">\\n                    <span class=\\\"a-color-secondary\\\">\\n                        Somewhat large\\n                    </span>\\n                </td>\\n                <td class=\\\"a-span8\\\">\\n                    <div class=\\\"a-meter\\\" aria-label=\\\"0%\\\"><div class=\\\"a-meter-bar\\\" style=\\\"width: 0%;\\\"></div></div>\\n                </td> \\n                <td class=\\\"a-span1 a-nowrap\\\">\\n                    <span>0</span>\\n                </td> \\n            </tr>\\n        \\n            <tr class=\\\"a-histogram-row\\\">\\n                <td class=\\\"a-span3 a-nowrap\\\">\\n                    <span class=\\\"a-color-secondary\\\">\\n                        Too large\\n                    </span>\\n                </td>\\n                <td class=\\\"a-span8\\\">\\n                    <div class=\\\"a-meter\\\" aria-label=\\\"0%\\\"><div class=\\\"a-meter-bar\\\" style=\\\"width: 0%;\\\"></div></div>\\n                </td> \\n                <td class=\\\"a-span1 a-nowrap\\\">\\n                    <span>0</span>\\n                </td> \\n            </tr>\\n        \\n    \", \"title\": \"QIBOE Men's Baggy Jeans Denim Sweatpants Loose Pants\", \"also_buy\": [\"B077GQQKRV\", \"B07CBJQTF6\", \"B07H2Z6S9J\", \"B06Y26PZ5R\", \"B012MKMMWO\", \"B0156SZQ5O\", \"B0179AUC5Q\", \"B07C3FNYF5\", \"B012MKO268\", \"B07CP532DP\", \"B01FVRKZ4W\", \"B0179ATZ9A\", \"B073P7PHCD\", \"B076B8J2TX\", \"B072XTTTK9\", \"B010V0WTP2\", \"B071PFP967\", \"B07H2YZS5K\", \"B012MKK0J6\", \"B010V19M8S\", \"B01M4KD5I7\", \"B0159XAQ60\", \"B01E377QRU\", \"B0034XRCAG\", \"B07C2M6X6Z\"], \"image\": [\"https://images-na.ssl-images-amazon.com/images/I/511YF6R4mqL._SR38,50_.jpg\", \"https://images-na.ssl-images-amazon.com/images/I/51QrT4E2VFL._SR38,50_.jpg\", \"https://images-na.ssl-images-amazon.com/images/I/511EGjmsH1L._SR38,50_.jpg\", \"https://images-na.ssl-images-amazon.com/images/I/51sRkDAOCpL._SR38,50_.jpg\"], \"tech2\": \"\", \"brand\": \"QIBOE\", \"feature\": [\"Denim\", \"Zipper closure\", \"Material: cotton\", \"Style: hip pop\", \"Two side slant pockets and two back pockets\", \"Straight fit long pants\", \"<span class=\\\"a-text-bold\\\">Shipping Information:\\n                    </span>\\n                    <span><a href='https://www.amazon.com/gp/help/seller/shipping.html/ref=dp_pd_shipping?_encoding=UTF8&amp;seller=A35KZH1XOKRBK&amp;asin=B00UHOT9IS'>View shipping rates and policies</a></span>\", \"<span class=\\\"a-text-bold\\\">ASIN:\\n                    </span>\\n                    <span>B00UHOT9IS</span>\", \"\", \"<span class=\\\"a-text-bold\\\">Date first listed on Amazon:\\n                    </span>\\n                    <span>March 10, 2015</span>\", \"<span class=\\\"a-text-bold\\\">\\n                    Average Customer Review:\\n                </span>\\n                \\n\\n\\n\\n\\n<style type=\\\"text/css\\\">\\n    /* \\n    * Fix for UDP-1061. Average customer reviews has a small extra line on hover \\n    * https://omni-grok.amazon.com/xref/src/appgroup/websiteTemplates/retail/SoftlinesDetailPageAssets/udp-intl-lock/src/legacy.css?indexName=WebsiteTemplates#40\\n    */\\n    .noUnderline a:hover { \\n        text-decoration: none; \\n    }\\n</style>\\n\\n\\n\\n    \\n    \\n    \\n    \\n        \\n\\n        \\n\\n        \\n        \\n        \\n        \\n\\t\\t\\n\\t\\t\\n\\t\\t\\n\\t\\t\\n\\t\\t        \\n\\t\\t\\n\\t\\t\\n\\t\\t\\n\\t\\t\\n\\t\\t\\n\\t\\t\\n\\t\\t\\n\\t\\t        \\n        \\n\\n        <div id=\\\"detailBullets_averageCustomerReviews\\\" class=\\\"a-spacing-none\\\" data-asin=\\\"B00UHOT9IS\\\" data-ref=\\\"dpx_acr_pop_\\\" >\\n            \\n            \\n            \\n                \\n                \\n                    \\n\\n\\n\\n\\n\\n\\n\\n\\n\\n\\n        <span class=\\\"a-declarative\\\" data-action=\\\"acrStarsLink-click-metrics\\\" data-acrStarsLink-click-metrics=\\\"{}\\\">\\n            \\n\\n\\n\\n\\n\\n    <span id=\\\"acrPopover\\\" class=\\\"reviewCountTextLinkedHistogram noUnderline\\\" title=\\\"4.0 out of 5 stars\\\">\\n        <span class=\\\"a-declarative\\\" data-action=\\\"a-popover\\\" data-a-popover=\\\"{&quot;max-width&quot;:&quot;700&quot;,&quot;closeButton&quot;:&quot;false&quot;,&quot;position&quot;:&quot;triggerBottom&quot;,&quot;url&quot;:&quot;/gp/customer-reviews/widgets/average-customer-review/popover/ref=dpx_acr_pop_?contextId=dpx&amp;asin=B00UHOT9IS&quot;}\\\">\\n            <a href=\\\"javascript:void(0)\\\" class=\\\"a-popover-trigger a-declarative\\\">\\n                \\n\\n<i class=\\\"a-icon a-icon-star a-star-4\\\"><span class=\\\"a-icon-alt\\\">4.0 out of 5 stars</span></i>\\n                \\n            <i class=\\\"a-icon a-icon-popover\\\"></i></a>\\n        </span>\\n        <span class=\\\"a-letter-space\\\"></span>\\n    </span>\\n\\n\\n        </span>\\n        <span class=\\\"a-letter-space\\\"></span>\\n        \\n        \\n\\n        \\n\\n        \\n\\n        \\n        \\n        \\n        \\n        \\n        \\n        \\n            \\n            \\n                <span class=\\\"a-declarative\\\" data-action=\\\"acrLink-click-metrics\\\" data-acrLink-click-metrics=\\\"{}\\\">\\n                    <a id=\\\"acrCustomerReviewLink\\\" class=\\\"a-link-normal\\\" href=\\\"#customerReviews\\\">\\n                        <span id=\\\"acrCustomerReviewText\\\" class=\\\"a-size-base\\\">4 customer reviews</span>\\n                    </a>\\n                </span>\\n            \\n                <script type=\\\"text/javascript\\\">\\n                    P.when('A', 'ready').execute(function(A) {\\n                        A.declarative('acrLink-click-metrics', 'click', { \\\"allowLinkDefault\\\" : true }, function(event){\\n                            if(window.ue) {\\n                                ue.count(\\\"acrLinkClickCount\\\", (ue.count(\\\"acrLinkClickCount\\\") || 0) + 1);\\n                            }\\n                        });\\n                    });\\n                </script>\\n            \\n            \\n            \\n            \\n        \\n        \\n        <script type=\\\"text/javascript\\\">\\n            P.when('A', 'cf').execute(function(A) {\\n                A.declarative('acrStarsLink-click-metrics', 'click', { \\\"allowLinkDefault\\\" : true },  function(event){\\n                    if(window.ue) {\\n                        ue.count(\\\"acrStarsLinkWithPopoverClickCount\\\", (ue.count(\\\"acrStarsLinkWithPopoverClickCount\\\") || 0) + 1);\\n                    }\\n                });\\n            });\\n        </script>\\n\\n\\n                \\n            \\n        </div>\"], \"rank\": \"1,506,383 in Clothing, Shoes & Jewelry (\", \"also_view\": [\"B07H2Z6S9J\", \"B077GQQKRV\", \"B072XTTTK9\", \"B002DMJOC8\", \"B07CBJQTF6\", \"B0156SZQ5O\", \"B07H2YZS5K\", \"B076B8J2TX\", \"B01CG5HYE6\", \"B071PFP967\", \"B06Y26PZ5R\", \"B06Y5N9YFF\", \"B012MKMMWO\", \"B0797PSJ4J\", \"B077TR2855\", \"B07CQJ8S9V\", \"B01E377QRU\", \"B07CMK5VRD\", \"B073P7PHCD\", \"B012KC7F2Q\", \"B017Y1GMR2\", \"B004EENYW4\", \"B0179AUNYQ\", \"B0757DW7XJ\", \"B019KYRQYO\", \"B0179ATZ9A\", \"B07CKDN5GS\", \"B01N5M3ZMG\", \"B01A3S8MLC\", \"B075KQPV28\", \"B07CQ4P1ZD\", \"B00CAKH5NI\", \"B07GBSJSWP\", \"B0179AUC5Q\", \"B07C3FNYF5\", \"B07FS739BL\", \"B07JGB3X5J\", \"B012KC6EO6\", \"B01FVRKZ4W\", \"B076ZKSN8Q\", \"B0157M276K\", \"B00W5AWTNY\", \"B075ZWMDK4\", \"B07CQCKX1P\", \"B077GBDQ44\", \"B01GJNI42C\", \"B073WRLB3Y\", \"B0018OY5X0\", \"B06Y2QZW18\", \"B07H319WRY\", \"B07CHLF5RG\", \"B074WHY9NZ\", \"B075F6WW62\", \"B079F6M38L\", \"B005F28HIK\", \"B01H7EMBXK\", \"B06VV1HQ79\", \"B001AQVMDM\"], \"details\": {}, \"main_cat\": \"<img src=\\\"https://images-na.ssl-images-amazon.com/images/G/01/nav2/images/gui/amazon-fashion-store-new._CB520838675_.png\\\" class=\\\"nav-categ-image\\\" alt=\\\"AMAZON FASHION\\\"/>\", \"similar_item\": \"\", \"date\": \"<div class=\\\"a-fixed-left-grid a-spacing-none\\\"><div class=\\\"a-fixed-left-grid-inner\\\" style=\\\"padding-left:280px\\\"><div class=\\\"a-fixed-left-grid-col a-col-left\\\" style=\\\"width:280px;margin-left:-280px;float:left;\\\"><span class=\\\"a-declarative\\\" data-action=\\\"reviews:filter-action:push-state\\\" data-reviews:filter-action:push-state=\\\"{&quot;scrollToSelector&quot;:&quot;#reviews-filter-info&quot;,&quot;allowLinkDefault&quot;:&quot;1&quot;}\\\"><table id=\\\"histogramTable\\\" class=\\\"a-normal a-align-middle a-spacing-base\\\" role=\\\"presentation\\\"><tr data-reftag=\\\"cm_cr_dp_d_hist_5\\\" data-reviews-state-param=\\\"{&quot;filterByStar&quot;:&quot;five_star&quot;,&quot;pageNumber&quot;:&quot;1&quot;}\\\" class=\\\"a-histogram-row\\\"><td class=\\\"aok-nowrap\\\"><a aria-label=\\\"5 star (50%)\\\" class=\\\"a-size-base a-link-normal 5star\\\" title=\\\"5 star\\\" href=\\\"/QIBOE-Baggy-Jeans-Denim-Sweatpants/product-reviews/B00UHOT9IS/ref=cm_cr_dp_d_hist_5?ie=UTF8&amp;filterByStar=five_star&amp;reviewerType=all_reviews#reviews-filter-bar\\\">5 star</a><span class=\\\"a-letter-space\\\"></span>\", \"price\": \"$38.99\", \"asin\": \"6342509379\"}\n",
      "\n"
     ]
    },
    {
     "name": "stderr",
     "output_type": "stream",
     "text": [
      "\n"
     ]
    }
   ],
   "source": [
    "import json\n",
    "import os\n",
    "from tqdm import tqdm\n",
    "\n",
    "def sampleData(inputFile, outputFile, targetSize, filterKey='also_buy'):\n",
    "    targetSize = targetSize * 1024 * 3\n",
    "    currentSize = 0\n",
    "\n",
    "    with open(inputFile, 'r', encoding='utf-8') as input, open(outputFile, 'w', encoding='utf-8') as output:\n",
    "        for line in tqdm(input):\n",
    "            data = json.loads(line)\n",
    "            if data.get(filterKey):\n",
    "                output.write(json.dumps(data) + '\\n')\n",
    "                currentSize += len(line.encode('utf-8'))\n",
    "\n",
    "            if currentSize >= targetSize:\n",
    "                break\n",
    "\n",
    "def print_head(file_path, n=5):\n",
    "    with open(file_path, 'r', encoding='utf-8') as file:\n",
    "        head = []\n",
    "        for _ in range(n):\n",
    "            try:\n",
    "                line = next(file)\n",
    "                head.append(line)\n",
    "            except StopIteration:\n",
    "                break\n",
    "        print(''.join(head))\n",
    "\n",
    "\n",
    "sampleData('Sample_Amazon_Meta.json', 'Sample_Amazon_Meta2.json', 1)\n",
    "\n",
    "print(\"Head of sampled data:\")\n",
    "print_head('Sample_Amazon_Meta2.json')\n"
   ]
  },
  {
   "cell_type": "code",
   "execution_count": 20,
   "metadata": {},
   "outputs": [
    {
     "name": "stderr",
     "output_type": "stream",
     "text": [
      "1it [00:00, 3744.91it/s]\n",
      "1it [00:00, 6502.80it/s]\n"
     ]
    }
   ],
   "source": [
    "import json\n",
    "import re\n",
    "\n",
    "def preprocess_data(data):\n",
    "    cleaned_data = {}\n",
    "\n",
    "    # Ensure that required fields exist, otherwise set them to None\n",
    "    cleaned_data['title'] = data.get('title', None)\n",
    "    cleaned_data['description'] = re.sub(r'<[^>]+>', '', ' '.join(data.get('description', [])))  # Remove HTML tags\n",
    "    cleaned_data['price'] = data.get('price', None)\n",
    "    cleaned_data['brand'] = data.get('brand', None)\n",
    "    cleaned_data['categories'] = data.get('category', [])\n",
    "    cleaned_data['also_buy'] = data.get('also_buy', [])\n",
    "\n",
    "    return cleaned_data\n",
    "\n",
    "\n",
    "def preprocess_file(input_file, output_file):\n",
    "    with open(input_file, 'r', encoding='utf-8') as f, open(output_file, 'w', encoding='utf-8') as fout:\n",
    "        for line in f:\n",
    "            data = json.loads(line)\n",
    "            preprocessed_data = preprocess_data(data)\n",
    "            fout.write(json.dumps(preprocessed_data) + '\\n')\n",
    "\n",
    "def stream_processing(input_file, target_size):\n",
    "    target_size *= 1024 * 3  # Convert to bytes\n",
    "    current_size = 0\n",
    "    preprocessed_data = []\n",
    "\n",
    "    with open(input_file, 'r', encoding='utf-8') as f:\n",
    "        for line in tqdm(f):\n",
    "            data = json.loads(line)\n",
    "            preprocessed_data.append(preprocess_data(data))\n",
    "            current_size += len(line.encode('utf-8'))\n",
    "\n",
    "            if current_size >= target_size:\n",
    "                # Perform frequent itemset mining or any other analysis here with preprocessed_data\n",
    "                current_size = 0\n",
    "                preprocessed_data = []\n",
    "\n",
    "def batch_processing(input_file):\n",
    "    with open(input_file, 'r', encoding='utf-8') as f:\n",
    "        for line in tqdm(f):\n",
    "            data = json.loads(line)\n",
    "            preprocess_data(data)\n",
    "            # Perform batch processing steps here\n",
    "\n",
    "# Generate new JSON file with preprocessed data\n",
    "preprocess_file('Sample_Amazon_Meta2.json', 'Preprocessed_Amazon_Meta.json')\n",
    "\n",
    "# Perform streaming processing\n",
    "stream_processing('Sample_Amazon_Meta2.json', target_size=1)\n",
    "\n",
    "# Perform batch processing\n",
    "batch_processing('Sample_Amazon_Meta2.json')\n"
   ]
  },
  {
   "cell_type": "code",
   "execution_count": 21,
   "metadata": {},
   "outputs": [],
   "source": [
    "import json\n",
    "from kafka import KafkaProducer\n",
    "\n",
    "def produce_data(input_file, topic):\n",
    "    producer = KafkaProducer(bootstrap_servers=['localhost:9092'])\n",
    "\n",
    "    with open(input_file, 'r', encoding='utf-8') as f:\n",
    "        for line in f:\n",
    "            data = json.loads(line)\n",
    "            preprocessed_data = preprocess_data(data)\n",
    "            producer.send(topic, json.dumps(preprocessed_data).encode('utf-8'))\n",
    "\n",
    "if __name__ == \"__main__\":\n",
    "    input_file = 'Preprocessed_Amazon_Meta.json'\n",
    "    topic = 'preprocessed_data_topic'\n",
    "    produce_data(input_file, topic)"
   ]
  }
 ],
 "metadata": {
  "kernelspec": {
   "display_name": "base",
   "language": "python",
   "name": "python3"
  },
  "language_info": {
   "codemirror_mode": {
    "name": "ipython",
    "version": 3
   },
   "file_extension": ".py",
   "mimetype": "text/x-python",
   "name": "python",
   "nbconvert_exporter": "python",
   "pygments_lexer": "ipython3",
   "version": "3.11.5"
  }
 },
 "nbformat": 4,
 "nbformat_minor": 2
}
