{
 "cells": [
  {
   "cell_type": "markdown",
   "metadata": {},
   "source": [
    "Pre-processing"
   ]
  },
  {
   "cell_type": "code",
   "execution_count": 8,
   "metadata": {},
   "outputs": [
    {
     "name": "stderr",
     "output_type": "stream",
     "text": [
      "0it [00:00, ?it/s]"
     ]
    },
    {
     "name": "stderr",
     "output_type": "stream",
     "text": [
      "\n"
     ]
    }
   ],
   "source": [
    "import json\n",
    "import os\n",
    "from tqdm import tqdm\n",
    "\n",
    "def sampleData(inputFile, outputFile, targetSize, filterKey='also_buy'):\n",
    "    targetSize = targetSize * 1024 * 3\n",
    "    currentSize = 0\n",
    "\n",
    "    with open(inputFile, 'r', encoding='utf-8') as input, open(outputFile, 'w', encoding='utf-8') as output:\n",
    "        for line in tqdm(input):\n",
    "            data = json.loads(line)\n",
    "            if data.get(filterKey):\n",
    "                output.write(json.dumps(data) + '\\n')\n",
    "                currentSize += len(line.encode('utf-8'))\n",
    "\n",
    "            if currentSize >= targetSize:\n",
    "                break\n",
    "\n",
    "sampleData('Sampled_Amazon_Meta.json', 'Sample_Amazon_Meta2.json', 1)\n"
   ]
  }
 ],
 "metadata": {
  "kernelspec": {
   "display_name": "Python 3",
   "language": "python",
   "name": "python3"
  },
  "language_info": {
   "codemirror_mode": {
    "name": "ipython",
    "version": 3
   },
   "file_extension": ".py",
   "mimetype": "text/x-python",
   "name": "python",
   "nbconvert_exporter": "python",
   "pygments_lexer": "ipython3",
   "version": "3.11.5"
  }
 },
 "nbformat": 4,
 "nbformat_minor": 2
}
